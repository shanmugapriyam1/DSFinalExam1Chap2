{
 "cells": [
  {
   "cell_type": "markdown",
   "id": "d11ca17a-8ecd-482e-99cd-c04ba47f3b61",
   "metadata": {},
   "source": [
    "# FinalExam1_chap2"
   ]
  },
  {
   "cell_type": "markdown",
   "id": "33d99dd2-01e5-4aa9-82cf-005a56540dbd",
   "metadata": {},
   "source": [
    "Hello, this is an introduction to the exam."
   ]
  },
  {
   "cell_type": "markdown",
   "id": "ce00e711-f810-42d4-8034-c86fba565e50",
   "metadata": {},
   "source": [
    "List of data science languages:\n",
    "- Python\n",
    "- R\n",
    "- Scala\n",
    "- Java\n",
    "- SQL etc"
   ]
  },
  {
   "cell_type": "markdown",
   "id": "86a1fd04-392d-4a72-8459-a89b04ed8002",
   "metadata": {},
   "source": [
    "List of data science libraries:\n",
    "1. Pandas\n",
    "2. NumPy\n",
    "3. Matplotlib\n",
    "4. TensorFlow\n",
    "5. scikit-learn etc"
   ]
  },
  {
   "cell_type": "markdown",
   "id": "1503a012-e0fc-4c26-b122-4e360657db32",
   "metadata": {},
   "source": [
    "|Category|Tool|\n",
    "|---------|----|\n",
    "|Programming Language|Python, R, SQL|\n",
    "|Data Manipulation|Pandas, Numpy|\n",
    "|Data Visualization|Matplotlib,Seaborn|\n",
    "|Machine Learning|scikit-learn,TensorFlow, Keras|\n",
    "|Natural Language Processing|NLTK, spaCy|\n",
    "|Big Data & Distributed computing|Apache Spark, Hadoop|\n",
    "|Data Engineering|Apache Airflow, Luigi|\n",
    "|Statistical Analysis|SciPy,Statsmodels|\n",
    "|Deep Learning & AI|Theano, Caffe|\n"
   ]
  },
  {
   "cell_type": "markdown",
   "id": "d6898f2b-0469-498b-829c-62d8c890af4c",
   "metadata": {},
   "source": [
    "Arithmetic expressions:\n",
    "\n",
    "- Addition: 2+3=5\n",
    "- Subtraction: 5-3=2\n",
    "- Multiplication: 4*8=32\n",
    "- Division: 8/4=2"
   ]
  },
  {
   "cell_type": "code",
   "execution_count": 3,
   "id": "ce1f0498-8ca4-4aaa-af15-0929aca9e7d6",
   "metadata": {},
   "outputs": [
    {
     "data": {
      "text/plain": [
       "12"
      ]
     },
     "execution_count": 3,
     "metadata": {},
     "output_type": "execute_result"
    }
   ],
   "source": [
    "3+9"
   ]
  },
  {
   "cell_type": "code",
   "execution_count": 4,
   "id": "3ee873d8-637b-457b-a02d-ef3ffbdc37c1",
   "metadata": {},
   "outputs": [
    {
     "data": {
      "text/plain": [
       "4"
      ]
     },
     "execution_count": 4,
     "metadata": {},
     "output_type": "execute_result"
    }
   ],
   "source": [
    "2*2"
   ]
  },
  {
   "cell_type": "code",
   "execution_count": 5,
   "id": "1f9fa7e2-5ae4-405a-ad52-d6a28bd77bbe",
   "metadata": {},
   "outputs": [
    {
     "name": "stdout",
     "output_type": "stream",
     "text": [
      "2.0\n"
     ]
    }
   ],
   "source": [
    "minutes=120\n",
    "hours=minutes/60\n",
    "print(hours)"
   ]
  },
  {
   "cell_type": "markdown",
   "id": "4062c64e-68f6-483c-b246-f325c8537e4d",
   "metadata": {},
   "source": [
    "## Objectives\r\n",
    "\r\n",
    "The main objectives of this notebook are to:\r\n",
    "\r\n",
    "1. **Understand Arithmetic Operations**: Learn how to perform basic arithmetic operations (addition, subtraction, multiplication, division, etc.) in Python using Jupyter.\r\n",
    "   \r\n",
    "2. **Explore Python's Mathematical Functions**: Get familiar with Python's built-in functions for more complex mathematical operations like power, modulus, and floor division.\r\n",
    "\r\n",
    "3. **Practice Code Execution in Jupyter**: Gain hands-on experience running Python code and evaluating expressions in Jupyter notebooks.\r\n",
    "\r\n",
    "4. **Work with Variables and Expressions**: Learn how to store values in variables and use them in arithmetic expressions for calculations.\r\n",
    "\r\n",
    "5. **Develop Debugging Skills**: Identify and resolve common errors in arithmetic expressions and variable usage.\r\n",
    "\r\n",
    "By the end of this notebook, you will have a better understanding of how arithmetic expressions work in Python and how to use Jupyter notebooks for quick and interactive coding.\r\n"
   ]
  },
  {
   "cell_type": "markdown",
   "id": "892a486b-b719-4473-862c-1d65cee88d3c",
   "metadata": {},
   "source": [
    "***Author: SHANMUGA PRIYA***"
   ]
  },
  {
   "cell_type": "code",
   "execution_count": null,
   "id": "665ddf7c-0668-4cff-988f-3edb5d860db4",
   "metadata": {},
   "outputs": [],
   "source": []
  }
 ],
 "metadata": {
  "kernelspec": {
   "display_name": "Python 3 (ipykernel)",
   "language": "python",
   "name": "python3"
  },
  "language_info": {
   "codemirror_mode": {
    "name": "ipython",
    "version": 3
   },
   "file_extension": ".py",
   "mimetype": "text/x-python",
   "name": "python",
   "nbconvert_exporter": "python",
   "pygments_lexer": "ipython3",
   "version": "3.12.0"
  }
 },
 "nbformat": 4,
 "nbformat_minor": 5
}
